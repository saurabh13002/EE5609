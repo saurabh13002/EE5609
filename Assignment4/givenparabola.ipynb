{
 "cells": [
  {
   "cell_type": "code",
   "execution_count": 1,
   "metadata": {},
   "outputs": [
    {
     "name": "stdout",
     "output_type": "stream",
     "text": [
      "[1.1208598  3.74042422] 0.11602540378443871\n"
     ]
    },
    {
     "data": {
      "image/png": "[encoded data removed]",
      "text/plain": [
       "<Figure size 432x288 with 1 Axes>"
      ]
     },
     "metadata": {
      "needs_background": "light"
     },
     "output_type": "display_data"
    }
   ],
   "source": [
    "#Program to plot  the tangent of a parabola\n",
    "#Code by GVV Sharma\n",
    "#Released under GNU GPL\n",
    "#August 10, 2020\n",
    "\n",
    "import numpy as np\n",
    "import matplotlib.pyplot as plt\n",
    "from numpy import linalg as LA\n",
    "import math\n",
    "\n",
    "\n",
    "#local imports\n",
    "from line.funcs import *\n",
    "from triangle.funcs import *\n",
    "from conics.funcs import *\n",
    "\n",
    "\n",
    "#setting up plot\n",
    "fig = plt.figure()\n",
    "ax = fig.add_subplot(111, aspect='equal')\n",
    "len = 100\n",
    "y = np.linspace(-4,4,len)\n",
    "\n",
    "#parab parameters\n",
    "V = np.array(([3,-1*math.sqrt(3)],[-1*math.sqrt(3),1]))\n",
    "u = np.array(([3,-2]))\n",
    "f = 5\n",
    "#p = np.array(([1,0]))\n",
    "#foc = np.abs(p@u)/2\n",
    "\n",
    "O = np.array(([0,0]))\n",
    "#Generating the Standard parabola\n",
    "\n",
    "#Eigenvalues and eigenvectors\n",
    "D_vec,P = LA.eig(V)\n",
    "D = np.diag(D_vec)\n",
    "P[:,[0, 1]] =P[:,[1, 0]]\n",
    "p = P[:,0]\n",
    "eta = 2*u@p\n",
    "#foc = np.abs(eta/D_vec[1])\n",
    "foc = -eta/D_vec[0]\n",
    "#print(p,foc,D_vec[1])\n",
    "x = parab_gen(y,foc)\n",
    "#Affine Parameters\n",
    "#c1 = np.array(([-(u@V@u-2*u@u+f)/(2*u@p),0]))\n",
    "#c = -P@u+c1\n",
    "#print(c1)\n",
    "#p = -p\n",
    "cA = np.vstack((u+eta*0.5*p,V))\n",
    "cb = np.vstack((-f,(eta*0.5*p-u).reshape(-1,1)))\n",
    "c = LA.lstsq(cA,cb,rcond=None)[0]\n",
    "c = c.flatten()\n",
    "print(c,foc)\n",
    "#print(cA,cb)\n",
    "#print(p,c)\n",
    "\n",
    "c1 = np.array(([(u@V@u-2*D_vec[1]*u@u+D_vec[1]**2*f)/(eta*D_vec[1]**2),0]))\n",
    "xStandardparab = np.vstack((x,y))\n",
    "#xActualparab = P@(xStandardparab - c1[:,np.newaxis])-u[:,np.newaxis]/D_vec[1]\n",
    "xActualparab = P@xStandardparab + c[:,np.newaxis]\n",
    "#xActualparab = P@xStandardparab \n",
    "\n",
    "##Tangent Analysis\n",
    "#m_0 = 2/3\n",
    "#m = np.array(([1,m_0]))\n",
    "#n = omat@m\n",
    "#kappa = p@u/(p@n)\n",
    "#\n",
    "#qA = np.vstack((u+kappa*n,V))\n",
    "#qb = np.vstack((-f,(kappa*n-u).reshape(-1,1)))\n",
    "#q = LA.lstsq(qA,qb,rcond=None)[0]\n",
    "#q = q.flatten()\n",
    "#O = np.array([0,0])\n",
    "#print(c,q)\n",
    "#\n",
    "##Generating the tangent\n",
    "#k1 = 2\n",
    "#k2 = -2\n",
    "#x_AB = line_dir_pt(m,q,k1,k2)\n",
    "#\n",
    "#Labeling the coordinates\n",
    "parab_coords = np.vstack((O,c)).T\n",
    "plt.scatter(parab_coords[0,:], parab_coords[1,:])\n",
    "vert_labels = ['$O$','$c (1.1208, 3.7404)$']\n",
    "for i, txt in enumerate(vert_labels):\n",
    "    plt.annotate(txt, # this is the text\n",
    "                 (parab_coords[0,i], parab_coords[1,i]), # this is the point to label\n",
    "                 textcoords=\"offset points\", # how to position the text\n",
    "                 xytext=(0,5), # distance from text to points (x,y)\n",
    "                 ha='center') # horizontal alignment can be left, right or center\n",
    "\n",
    "#Plotting all lines\n",
    "#plt.plot(x_AB[0,:],x_AB[1,:],label='Tangent')\n",
    "\n",
    "#Plotting the actual parabola\n",
    "#plt.plot(xStandardparab[0,:],xStandardparab[1,:],label='Parabola',color='r')\n",
    "plt.plot(xActualparab[0,:],xActualparab[1,:],label='Given Parabola',color='r')\n",
    "\n",
    "plt.xlabel('$x$')\n",
    "plt.ylabel('$y$')\n",
    "plt.legend(loc='best')\n",
    "plt.grid() # minor\n",
    "plt.axis('equal')\n",
    "\n",
    "plt.show()\n"
   ]
  },
  {
   "cell_type": "code",
   "execution_count": null,
   "metadata": {},
   "outputs": [],
   "source": []
  }
 ],
 "metadata": {
  "kernelspec": {
   "display_name": "Python 3",
   "language": "python",
   "name": "python3"
  },
  "language_info": {
   "codemirror_mode": {
    "name": "ipython",
    "version": 3
   },
   "file_extension": ".py",
   "mimetype": "text/x-python",
   "name": "python",
   "nbconvert_exporter": "python",
   "pygments_lexer": "ipython3",
   "version": "3.8.3"
  }
 },
 "nbformat": 4,
 "nbformat_minor": 4
}
